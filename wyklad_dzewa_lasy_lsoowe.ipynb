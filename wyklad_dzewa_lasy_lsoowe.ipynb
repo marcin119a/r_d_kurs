{
 "cells": [
  {
   "cell_type": "code",
   "execution_count": 2,
   "id": "5a5a395d",
   "metadata": {},
   "outputs": [
    {
     "name": "stdout",
     "output_type": "stream",
     "text": [
      "--2025-10-25 08:28:07--  https://raw.githubusercontent.com/marcin119a/data/refs/heads/main/adresowo_lodz_cleaned.csv\n",
      "Resolving raw.githubusercontent.com (raw.githubusercontent.com)... 2606:50c0:8001::154, 2606:50c0:8002::154, 2606:50c0:8003::154, ...\n",
      "Connecting to raw.githubusercontent.com (raw.githubusercontent.com)|2606:50c0:8001::154|:443... connected.\n",
      "HTTP request sent, awaiting response... 200 OK\n",
      "Length: 140154 (137K) [text/plain]\n",
      "Saving to: ‘adresowo_lodz_cleaned.csv’\n",
      "\n",
      "adresowo_lodz_clean 100%[===================>] 136,87K  --.-KB/s    in 0,06s   \n",
      "\n",
      "2025-10-25 08:28:07 (2,39 MB/s) - ‘adresowo_lodz_cleaned.csv’ saved [140154/140154]\n",
      "\n"
     ]
    }
   ],
   "source": [
    "!wget https://raw.githubusercontent.com/marcin119a/data/refs/heads/main/adresowo_lodz_cleaned.csv"
   ]
  },
  {
   "cell_type": "code",
   "execution_count": 75,
   "id": "a6d891bb",
   "metadata": {},
   "outputs": [],
   "source": [
    "import pandas as pd\n",
    "from sklearn.model_selection import train_test_split\n",
    "from sklearn.metrics import r2_score\n",
    "\n",
    "# === 1. Wczytanie danych ===\n",
    "url = \"adresowo_lodz_cleaned.csv\"\n",
    "df = pd.read_csv(url).dropna(subset=['price_total_zl_cleaned', 'area_m2'])\n",
    "\n",
    "# === 2. Definicja cech i celu ===\n",
    "X = df[['area_m2', 'locality', 'rooms', 'owner_direct', 'photos', 'date_posted']]\n",
    "y = df['price_total_zl_cleaned']\n",
    "\n",
    "# === 3. Podział na zbiory treningowy/testowy ===\n",
    "X_train, X_test, y_train, y_test = train_test_split(X, y, test_size=0.2, random_state=42)\n",
    "\n"
   ]
  },
  {
   "cell_type": "code",
   "execution_count": 76,
   "id": "52fe3a14",
   "metadata": {},
   "outputs": [
    {
     "data": {
      "text/html": [
       "<div>\n",
       "<style scoped>\n",
       "    .dataframe tbody tr th:only-of-type {\n",
       "        vertical-align: middle;\n",
       "    }\n",
       "\n",
       "    .dataframe tbody tr th {\n",
       "        vertical-align: top;\n",
       "    }\n",
       "\n",
       "    .dataframe thead th {\n",
       "        text-align: right;\n",
       "    }\n",
       "</style>\n",
       "<table border=\"1\" class=\"dataframe\">\n",
       "  <thead>\n",
       "    <tr style=\"text-align: right;\">\n",
       "      <th></th>\n",
       "      <th>id</th>\n",
       "      <th>url</th>\n",
       "      <th>date_posted</th>\n",
       "      <th>photos</th>\n",
       "      <th>locality</th>\n",
       "      <th>street</th>\n",
       "      <th>property_type</th>\n",
       "      <th>rooms</th>\n",
       "      <th>area_m2</th>\n",
       "      <th>owner_direct</th>\n",
       "      <th>price_total_zl</th>\n",
       "      <th>price_per_m2_zl</th>\n",
       "      <th>price_total_zl_cleaned</th>\n",
       "      <th>price_per_m2_zl_cleaned</th>\n",
       "    </tr>\n",
       "  </thead>\n",
       "  <tbody>\n",
       "    <tr>\n",
       "      <th>0</th>\n",
       "      <td>3740608</td>\n",
       "      <td>https://adresowo.pl/o/mieszkanie-lodz-baluty-u...</td>\n",
       "      <td>6 dni temu</td>\n",
       "      <td>16.0</td>\n",
       "      <td>Łódź Bałuty</td>\n",
       "      <td>ul. Antoniego Mackiewicza</td>\n",
       "      <td>Mieszkanie</td>\n",
       "      <td>2</td>\n",
       "      <td>47</td>\n",
       "      <td>True</td>\n",
       "      <td>315 000</td>\n",
       "      <td>6 702zł / m²</td>\n",
       "      <td>315000.0</td>\n",
       "      <td>6702.0</td>\n",
       "    </tr>\n",
       "    <tr>\n",
       "      <th>1</th>\n",
       "      <td>3747664</td>\n",
       "      <td>https://adresowo.pl/o/mieszkanie-lodz-gorna-ul...</td>\n",
       "      <td>dzisiajnowe</td>\n",
       "      <td>11.0</td>\n",
       "      <td>Łódź Górna</td>\n",
       "      <td>ul. Ignacego Paderewskiego</td>\n",
       "      <td>Mieszkanie</td>\n",
       "      <td>2</td>\n",
       "      <td>37</td>\n",
       "      <td>True</td>\n",
       "      <td>295 000</td>\n",
       "      <td>7 973zł / m²</td>\n",
       "      <td>295000.0</td>\n",
       "      <td>7973.0</td>\n",
       "    </tr>\n",
       "    <tr>\n",
       "      <th>2</th>\n",
       "      <td>3747648</td>\n",
       "      <td>https://adresowo.pl/o/mieszkanie-lodz-baluty-u...</td>\n",
       "      <td>dzisiajnowe</td>\n",
       "      <td>11.0</td>\n",
       "      <td>Łódź Bałuty</td>\n",
       "      <td>ul. Rojna</td>\n",
       "      <td>Mieszkanie</td>\n",
       "      <td>2</td>\n",
       "      <td>45</td>\n",
       "      <td>True</td>\n",
       "      <td>309 000</td>\n",
       "      <td>6 847zł / m²</td>\n",
       "      <td>309000.0</td>\n",
       "      <td>6847.0</td>\n",
       "    </tr>\n",
       "    <tr>\n",
       "      <th>3</th>\n",
       "      <td>3747458</td>\n",
       "      <td>https://adresowo.pl/o/mieszkanie-lodz-srodmies...</td>\n",
       "      <td>dzisiajnowe</td>\n",
       "      <td>13.0</td>\n",
       "      <td>Łódź Śródmieście</td>\n",
       "      <td>ul. Gdańska</td>\n",
       "      <td>Mieszkanie</td>\n",
       "      <td>5</td>\n",
       "      <td>125</td>\n",
       "      <td>True</td>\n",
       "      <td>699 000</td>\n",
       "      <td>5 614zł / m²</td>\n",
       "      <td>699000.0</td>\n",
       "      <td>5614.0</td>\n",
       "    </tr>\n",
       "    <tr>\n",
       "      <th>4</th>\n",
       "      <td>3746066</td>\n",
       "      <td>https://adresowo.pl/o/mieszkanie-lodz-ul-ignac...</td>\n",
       "      <td>dzisiajnowe</td>\n",
       "      <td>10.0</td>\n",
       "      <td>Łódź</td>\n",
       "      <td>ul. Ignacego Paderewskiego</td>\n",
       "      <td>Mieszkanie</td>\n",
       "      <td>2</td>\n",
       "      <td>38</td>\n",
       "      <td>True</td>\n",
       "      <td>365 000</td>\n",
       "      <td>9 605zł / m²</td>\n",
       "      <td>365000.0</td>\n",
       "      <td>9605.0</td>\n",
       "    </tr>\n",
       "    <tr>\n",
       "      <th>...</th>\n",
       "      <td>...</td>\n",
       "      <td>...</td>\n",
       "      <td>...</td>\n",
       "      <td>...</td>\n",
       "      <td>...</td>\n",
       "      <td>...</td>\n",
       "      <td>...</td>\n",
       "      <td>...</td>\n",
       "      <td>...</td>\n",
       "      <td>...</td>\n",
       "      <td>...</td>\n",
       "      <td>...</td>\n",
       "      <td>...</td>\n",
       "      <td>...</td>\n",
       "    </tr>\n",
       "    <tr>\n",
       "      <th>674</th>\n",
       "      <td>1480239</td>\n",
       "      <td>https://adresowo.pl/o/mieszkanie-lodz-polesie-...</td>\n",
       "      <td>ponad miesiąc temu</td>\n",
       "      <td>8.0</td>\n",
       "      <td>Łódź Polesie</td>\n",
       "      <td>ul. Lipowa</td>\n",
       "      <td>Mieszkanie</td>\n",
       "      <td>2</td>\n",
       "      <td>47</td>\n",
       "      <td>True</td>\n",
       "      <td>360 000</td>\n",
       "      <td>7 660zł / m²</td>\n",
       "      <td>360000.0</td>\n",
       "      <td>7660.0</td>\n",
       "    </tr>\n",
       "    <tr>\n",
       "      <th>675</th>\n",
       "      <td>1318647</td>\n",
       "      <td>https://adresowo.pl/o/mieszkanie-lodz-janow-ul...</td>\n",
       "      <td>ponad miesiąc temu</td>\n",
       "      <td>8.0</td>\n",
       "      <td>Łódź Janów</td>\n",
       "      <td>ul. Maćka z Bogdańca</td>\n",
       "      <td>Mieszkanie</td>\n",
       "      <td>3</td>\n",
       "      <td>110</td>\n",
       "      <td>True</td>\n",
       "      <td>880 000</td>\n",
       "      <td>8 000zł / m²</td>\n",
       "      <td>880000.0</td>\n",
       "      <td>8000.0</td>\n",
       "    </tr>\n",
       "    <tr>\n",
       "      <th>676</th>\n",
       "      <td>1228215</td>\n",
       "      <td>https://adresowo.pl/o/mieszkanie-lodz-polesie-...</td>\n",
       "      <td>ponad miesiąc temu</td>\n",
       "      <td>12.0</td>\n",
       "      <td>Łódź Polesie</td>\n",
       "      <td>ul. 6 Sierpnia</td>\n",
       "      <td>Mieszkanie</td>\n",
       "      <td>2</td>\n",
       "      <td>65</td>\n",
       "      <td>True</td>\n",
       "      <td>399 000</td>\n",
       "      <td>6 138zł / m²</td>\n",
       "      <td>399000.0</td>\n",
       "      <td>6138.0</td>\n",
       "    </tr>\n",
       "    <tr>\n",
       "      <th>677</th>\n",
       "      <td>140420</td>\n",
       "      <td>https://adresowo.pl/o/mieszkanie-lodz-ul-dr-ad...</td>\n",
       "      <td>ponad miesiąc temu</td>\n",
       "      <td>10.0</td>\n",
       "      <td>Łódź</td>\n",
       "      <td>ul. dr. Adama Próchnika</td>\n",
       "      <td>Mieszkanie</td>\n",
       "      <td>4</td>\n",
       "      <td>91</td>\n",
       "      <td>True</td>\n",
       "      <td>730 000</td>\n",
       "      <td>8 003zł / m²</td>\n",
       "      <td>730000.0</td>\n",
       "      <td>8003.0</td>\n",
       "    </tr>\n",
       "    <tr>\n",
       "      <th>678</th>\n",
       "      <td>51876</td>\n",
       "      <td>https://adresowo.pl/o/mieszkanie-lodz-gorna-ul...</td>\n",
       "      <td>ponad miesiąc temu</td>\n",
       "      <td>6.0</td>\n",
       "      <td>Łódź Górna</td>\n",
       "      <td>ul. Piaseczna</td>\n",
       "      <td>Mieszkanie</td>\n",
       "      <td>1</td>\n",
       "      <td>25</td>\n",
       "      <td>True</td>\n",
       "      <td>165 000</td>\n",
       "      <td>6 600zł / m²</td>\n",
       "      <td>165000.0</td>\n",
       "      <td>6600.0</td>\n",
       "    </tr>\n",
       "  </tbody>\n",
       "</table>\n",
       "<p>679 rows × 14 columns</p>\n",
       "</div>"
      ],
      "text/plain": [
       "          id                                                url  \\\n",
       "0    3740608  https://adresowo.pl/o/mieszkanie-lodz-baluty-u...   \n",
       "1    3747664  https://adresowo.pl/o/mieszkanie-lodz-gorna-ul...   \n",
       "2    3747648  https://adresowo.pl/o/mieszkanie-lodz-baluty-u...   \n",
       "3    3747458  https://adresowo.pl/o/mieszkanie-lodz-srodmies...   \n",
       "4    3746066  https://adresowo.pl/o/mieszkanie-lodz-ul-ignac...   \n",
       "..       ...                                                ...   \n",
       "674  1480239  https://adresowo.pl/o/mieszkanie-lodz-polesie-...   \n",
       "675  1318647  https://adresowo.pl/o/mieszkanie-lodz-janow-ul...   \n",
       "676  1228215  https://adresowo.pl/o/mieszkanie-lodz-polesie-...   \n",
       "677   140420  https://adresowo.pl/o/mieszkanie-lodz-ul-dr-ad...   \n",
       "678    51876  https://adresowo.pl/o/mieszkanie-lodz-gorna-ul...   \n",
       "\n",
       "            date_posted  photos          locality                      street  \\\n",
       "0            6 dni temu    16.0       Łódź Bałuty   ul. Antoniego Mackiewicza   \n",
       "1           dzisiajnowe    11.0        Łódź Górna  ul. Ignacego Paderewskiego   \n",
       "2           dzisiajnowe    11.0       Łódź Bałuty                   ul. Rojna   \n",
       "3           dzisiajnowe    13.0  Łódź Śródmieście                 ul. Gdańska   \n",
       "4           dzisiajnowe    10.0              Łódź  ul. Ignacego Paderewskiego   \n",
       "..                  ...     ...               ...                         ...   \n",
       "674  ponad miesiąc temu     8.0      Łódź Polesie                  ul. Lipowa   \n",
       "675  ponad miesiąc temu     8.0        Łódź Janów        ul. Maćka z Bogdańca   \n",
       "676  ponad miesiąc temu    12.0      Łódź Polesie              ul. 6 Sierpnia   \n",
       "677  ponad miesiąc temu    10.0              Łódź     ul. dr. Adama Próchnika   \n",
       "678  ponad miesiąc temu     6.0        Łódź Górna               ul. Piaseczna   \n",
       "\n",
       "    property_type  rooms  area_m2  owner_direct price_total_zl  \\\n",
       "0      Mieszkanie      2       47          True        315 000   \n",
       "1      Mieszkanie      2       37          True        295 000   \n",
       "2      Mieszkanie      2       45          True        309 000   \n",
       "3      Mieszkanie      5      125          True        699 000   \n",
       "4      Mieszkanie      2       38          True        365 000   \n",
       "..            ...    ...      ...           ...            ...   \n",
       "674    Mieszkanie      2       47          True        360 000   \n",
       "675    Mieszkanie      3      110          True        880 000   \n",
       "676    Mieszkanie      2       65          True        399 000   \n",
       "677    Mieszkanie      4       91          True        730 000   \n",
       "678    Mieszkanie      1       25          True        165 000   \n",
       "\n",
       "    price_per_m2_zl  price_total_zl_cleaned  price_per_m2_zl_cleaned  \n",
       "0      6 702zł / m²                315000.0                   6702.0  \n",
       "1      7 973zł / m²                295000.0                   7973.0  \n",
       "2      6 847zł / m²                309000.0                   6847.0  \n",
       "3      5 614zł / m²                699000.0                   5614.0  \n",
       "4      9 605zł / m²                365000.0                   9605.0  \n",
       "..              ...                     ...                      ...  \n",
       "674    7 660zł / m²                360000.0                   7660.0  \n",
       "675    8 000zł / m²                880000.0                   8000.0  \n",
       "676    6 138zł / m²                399000.0                   6138.0  \n",
       "677    8 003zł / m²                730000.0                   8003.0  \n",
       "678    6 600zł / m²                165000.0                   6600.0  \n",
       "\n",
       "[679 rows x 14 columns]"
      ]
     },
     "execution_count": 76,
     "metadata": {},
     "output_type": "execute_result"
    }
   ],
   "source": [
    "df"
   ]
  },
  {
   "cell_type": "code",
   "execution_count": 77,
   "id": "b3fe3681",
   "metadata": {},
   "outputs": [
    {
     "data": {
      "text/html": [
       "<div>\n",
       "<style scoped>\n",
       "    .dataframe tbody tr th:only-of-type {\n",
       "        vertical-align: middle;\n",
       "    }\n",
       "\n",
       "    .dataframe tbody tr th {\n",
       "        vertical-align: top;\n",
       "    }\n",
       "\n",
       "    .dataframe thead th {\n",
       "        text-align: right;\n",
       "    }\n",
       "</style>\n",
       "<table border=\"1\" class=\"dataframe\">\n",
       "  <thead>\n",
       "    <tr style=\"text-align: right;\">\n",
       "      <th></th>\n",
       "      <th>area_m2</th>\n",
       "      <th>locality</th>\n",
       "      <th>rooms</th>\n",
       "      <th>owner_direct</th>\n",
       "      <th>photos</th>\n",
       "      <th>date_posted</th>\n",
       "    </tr>\n",
       "  </thead>\n",
       "  <tbody>\n",
       "    <tr>\n",
       "      <th>430</th>\n",
       "      <td>54</td>\n",
       "      <td>Łódź Księży Młyn</td>\n",
       "      <td>2</td>\n",
       "      <td>True</td>\n",
       "      <td>17.0</td>\n",
       "      <td>ponad miesiąc temu</td>\n",
       "    </tr>\n",
       "    <tr>\n",
       "      <th>249</th>\n",
       "      <td>55</td>\n",
       "      <td>Łódź Górna</td>\n",
       "      <td>3</td>\n",
       "      <td>True</td>\n",
       "      <td>20.0</td>\n",
       "      <td>ponad tydzień temu</td>\n",
       "    </tr>\n",
       "    <tr>\n",
       "      <th>220</th>\n",
       "      <td>50</td>\n",
       "      <td>Łódź Śródmieście</td>\n",
       "      <td>2</td>\n",
       "      <td>True</td>\n",
       "      <td>13.0</td>\n",
       "      <td>ponad tydzień temu</td>\n",
       "    </tr>\n",
       "    <tr>\n",
       "      <th>18</th>\n",
       "      <td>53</td>\n",
       "      <td>Łódź Bałuty</td>\n",
       "      <td>3</td>\n",
       "      <td>True</td>\n",
       "      <td>9.0</td>\n",
       "      <td>dzisiajnowe</td>\n",
       "    </tr>\n",
       "    <tr>\n",
       "      <th>244</th>\n",
       "      <td>38</td>\n",
       "      <td>Łódź Polesie</td>\n",
       "      <td>1</td>\n",
       "      <td>True</td>\n",
       "      <td>8.0</td>\n",
       "      <td>ponad tydzień temu</td>\n",
       "    </tr>\n",
       "  </tbody>\n",
       "</table>\n",
       "</div>"
      ],
      "text/plain": [
       "     area_m2          locality  rooms  owner_direct  photos  \\\n",
       "430       54  Łódź Księży Młyn      2          True    17.0   \n",
       "249       55        Łódź Górna      3          True    20.0   \n",
       "220       50  Łódź Śródmieście      2          True    13.0   \n",
       "18        53       Łódź Bałuty      3          True     9.0   \n",
       "244       38      Łódź Polesie      1          True     8.0   \n",
       "\n",
       "            date_posted  \n",
       "430  ponad miesiąc temu  \n",
       "249  ponad tydzień temu  \n",
       "220  ponad tydzień temu  \n",
       "18          dzisiajnowe  \n",
       "244  ponad tydzień temu  "
      ]
     },
     "execution_count": 77,
     "metadata": {},
     "output_type": "execute_result"
    }
   ],
   "source": [
    "X_train.head()"
   ]
  },
  {
   "cell_type": "code",
   "execution_count": 78,
   "id": "57590c6e",
   "metadata": {},
   "outputs": [
    {
     "data": {
      "text/html": [
       "<div>\n",
       "<style scoped>\n",
       "    .dataframe tbody tr th:only-of-type {\n",
       "        vertical-align: middle;\n",
       "    }\n",
       "\n",
       "    .dataframe tbody tr th {\n",
       "        vertical-align: top;\n",
       "    }\n",
       "\n",
       "    .dataframe thead th {\n",
       "        text-align: right;\n",
       "    }\n",
       "</style>\n",
       "<table border=\"1\" class=\"dataframe\">\n",
       "  <thead>\n",
       "    <tr style=\"text-align: right;\">\n",
       "      <th></th>\n",
       "      <th>area_m2</th>\n",
       "      <th>locality</th>\n",
       "      <th>rooms</th>\n",
       "      <th>owner_direct</th>\n",
       "      <th>photos</th>\n",
       "      <th>date_posted</th>\n",
       "    </tr>\n",
       "  </thead>\n",
       "  <tbody>\n",
       "    <tr>\n",
       "      <th>646</th>\n",
       "      <td>37</td>\n",
       "      <td>Łódź Julianów</td>\n",
       "      <td>2</td>\n",
       "      <td>True</td>\n",
       "      <td>8.0</td>\n",
       "      <td>ponad miesiąc temu</td>\n",
       "    </tr>\n",
       "    <tr>\n",
       "      <th>336</th>\n",
       "      <td>118</td>\n",
       "      <td>Łódź Śródmieście</td>\n",
       "      <td>3</td>\n",
       "      <td>True</td>\n",
       "      <td>9.0</td>\n",
       "      <td>ponad miesiąc temu</td>\n",
       "    </tr>\n",
       "    <tr>\n",
       "      <th>63</th>\n",
       "      <td>90</td>\n",
       "      <td>Łódź Julianów</td>\n",
       "      <td>3</td>\n",
       "      <td>True</td>\n",
       "      <td>14.0</td>\n",
       "      <td>ponad miesiąc temu</td>\n",
       "    </tr>\n",
       "    <tr>\n",
       "      <th>367</th>\n",
       "      <td>44</td>\n",
       "      <td>Łódź Widzew</td>\n",
       "      <td>2</td>\n",
       "      <td>True</td>\n",
       "      <td>8.0</td>\n",
       "      <td>ponad miesiąc temu</td>\n",
       "    </tr>\n",
       "    <tr>\n",
       "      <th>101</th>\n",
       "      <td>39</td>\n",
       "      <td>Łódź Dąbrowa</td>\n",
       "      <td>2</td>\n",
       "      <td>True</td>\n",
       "      <td>10.0</td>\n",
       "      <td>6 dni temu</td>\n",
       "    </tr>\n",
       "  </tbody>\n",
       "</table>\n",
       "</div>"
      ],
      "text/plain": [
       "     area_m2          locality  rooms  owner_direct  photos  \\\n",
       "646       37     Łódź Julianów      2          True     8.0   \n",
       "336      118  Łódź Śródmieście      3          True     9.0   \n",
       "63        90     Łódź Julianów      3          True    14.0   \n",
       "367       44       Łódź Widzew      2          True     8.0   \n",
       "101       39      Łódź Dąbrowa      2          True    10.0   \n",
       "\n",
       "            date_posted  \n",
       "646  ponad miesiąc temu  \n",
       "336  ponad miesiąc temu  \n",
       "63   ponad miesiąc temu  \n",
       "367  ponad miesiąc temu  \n",
       "101          6 dni temu  "
      ]
     },
     "execution_count": 78,
     "metadata": {},
     "output_type": "execute_result"
    }
   ],
   "source": [
    "X_test.head()"
   ]
  },
  {
   "cell_type": "code",
   "execution_count": 79,
   "id": "bcf21d5a",
   "metadata": {},
   "outputs": [
    {
     "data": {
      "text/plain": [
       "area_m2         0\n",
       "locality        0\n",
       "rooms           0\n",
       "owner_direct    0\n",
       "photos          1\n",
       "date_posted     0\n",
       "dtype: int64"
      ]
     },
     "execution_count": 79,
     "metadata": {},
     "output_type": "execute_result"
    }
   ],
   "source": [
    "X.isnull().sum()"
   ]
  },
  {
   "cell_type": "code",
   "execution_count": 80,
   "id": "653eeb3e",
   "metadata": {},
   "outputs": [],
   "source": [
    "from sklearn.experimental import enable_iterative_imputer\n",
    "from sklearn.impute import IterativeImputer\n",
    "from sklearn.compose import ColumnTransformer\n",
    "from sklearn.pipeline import Pipeline\n",
    "\n",
    "# === 4. Imputacja (opcjonalna) ===\n",
    "imputer = IterativeImputer(random_state=0)\n",
    "\n",
    "# === 5. Definicja kolumn numerycznych i kategorycznych ===\n",
    "numeric_features = ['area_m2', 'rooms', 'photos']\n",
    "categorical_features = ['locality', 'owner_direct', 'date_posted']"
   ]
  },
  {
   "cell_type": "code",
   "execution_count": 106,
   "id": "1d3cf056",
   "metadata": {},
   "outputs": [],
   "source": [
    "from sklearn.preprocessing import StandardScaler, OneHotEncoder\n",
    "\n",
    "# === 6. ColumnTransformer: preprocessing ===\n",
    "preprocessor = ColumnTransformer(\n",
    "   transformers=[\n",
    "      ('num', Pipeline([\n",
    "           ('imputer', imputer),\n",
    "           #('scaler', StandardScaler())\n",
    "       ]), numeric_features),\n",
    "       ('cat', OneHotEncoder(handle_unknown='ignore'), categorical_features)\n",
    "   ]\n",
    ")\n"
   ]
  },
  {
   "cell_type": "code",
   "execution_count": 107,
   "id": "d5999488",
   "metadata": {},
   "outputs": [],
   "source": [
    "# === 6. ColumnTransformer: preprocessing ===\n",
    "from sklearn.tree import DecisionTreeRegressor\n",
    "from sklearn.pipeline import Pipeline\n",
    "\n",
    "# === 7. Pipeline z modelem ===\n",
    "pipeline = Pipeline(steps=[\n",
    "   ('preprocessor', preprocessor),\n",
    "   ('regressor', DecisionTreeRegressor(\n",
    "       max_depth=4,\n",
    "       random_state=42,\n",
    "   ))\n",
    "])\n",
    "\n"
   ]
  },
  {
   "cell_type": "code",
   "execution_count": 109,
   "id": "b57ff020",
   "metadata": {},
   "outputs": [
    {
     "name": "stdout",
     "output_type": "stream",
     "text": [
      "R²: 0.634\n"
     ]
    }
   ],
   "source": [
    "import matplotlib.pyplot as plt\n",
    "from sklearn.metrics import r2_score\n",
    "# === 8. Trening ===\n",
    "pipeline.fit(X_train, y_train)\n",
    "\n",
    "# === 9. Predykcja i ocena ===\n",
    "y_pred = pipeline.predict(X_test)\n",
    "r2 = r2_score(y_test, y_pred)\n",
    "print(f\"R²: {r2:.3f}\")\n"
   ]
  },
  {
   "cell_type": "code",
   "execution_count": 110,
   "id": "df6bad4d",
   "metadata": {},
   "outputs": [
    {
     "data": {
      "text/plain": [
       "[Text(0.5, 0.9, 'x[0] <= 64.5\\nsquared_error = 47076086451.267\\nsamples = 543\\nvalue = 468467.059'),\n",
       " Text(0.25, 0.7, 'x[0] <= 45.5\\nsquared_error = 14285230555.638\\nsamples = 438\\nvalue = 398656.888'),\n",
       " Text(0.375, 0.8, 'True  '),\n",
       " Text(0.125, 0.5, 'x[0] <= 31.5\\nsquared_error = 6690986044.811\\nsamples = 225\\nvalue = 331476.049'),\n",
       " Text(0.0625, 0.3, 'x[0] <= 26.5\\nsquared_error = 4075808485.425\\nsamples = 41\\nvalue = 244032.195'),\n",
       " Text(0.03125, 0.1, 'squared_error = 1112038024.691\\nsamples = 18\\nvalue = 192744.444'),\n",
       " Text(0.09375, 0.1, 'squared_error = 2725602708.507\\nsamples = 23\\nvalue = 284170.435'),\n",
       " Text(0.1875, 0.3, 'x[0] <= 39.5\\nsquared_error = 5190235963.647\\nsamples = 184\\nvalue = 350960.821'),\n",
       " Text(0.15625, 0.1, 'squared_error = 5106529513.322\\nsamples = 107\\nvalue = 336007.794'),\n",
       " Text(0.21875, 0.1, 'squared_error = 4564086287.82\\nsamples = 77\\nvalue = 371739.701'),\n",
       " Text(0.375, 0.5, 'x[0] <= 55.5\\nsquared_error = 12503659142.988\\nsamples = 213\\nvalue = 469622.563'),\n",
       " Text(0.3125, 0.3, 'x[2] <= 7.5\\nsquared_error = 6921490061.229\\nsamples = 126\\nvalue = 439610.571'),\n",
       " Text(0.28125, 0.1, 'squared_error = 2668466638.469\\nsamples = 18\\nvalue = 390222.556'),\n",
       " Text(0.34375, 0.1, 'squared_error = 7156043054.38\\nsamples = 108\\nvalue = 447841.907'),\n",
       " Text(0.4375, 0.3, 'x[15] <= 0.5\\nsquared_error = 17394427172.417\\nsamples = 87\\nvalue = 513088.207'),\n",
       " Text(0.40625, 0.1, 'squared_error = 14807852204.316\\nsamples = 86\\nvalue = 507426.442'),\n",
       " Text(0.46875, 0.1, 'squared_error = 0.0\\nsamples = 1\\nvalue = 1000000.0'),\n",
       " Text(0.75, 0.7, 'x[0] <= 110.0\\nsquared_error = 78729328124.046\\nsamples = 105\\nvalue = 759675.2'),\n",
       " Text(0.625, 0.8, '  False'),\n",
       " Text(0.625, 0.5, 'x[2] <= 13.5\\nsquared_error = 46280535157.254\\nsamples = 88\\nvalue = 700760.205'),\n",
       " Text(0.5625, 0.3, 'x[2] <= 4.5\\nsquared_error = 33453348100.173\\nsamples = 54\\nvalue = 644675.889'),\n",
       " Text(0.53125, 0.1, 'squared_error = 8534888888.889\\nsamples = 3\\nvalue = 875333.333'),\n",
       " Text(0.59375, 0.1, 'squared_error = 31605467084.236\\nsamples = 51\\nvalue = 631107.804'),\n",
       " Text(0.6875, 0.3, 'x[0] <= 86.0\\nsquared_error = 53723039342.56\\nsamples = 34\\nvalue = 789835.294'),\n",
       " Text(0.65625, 0.1, 'squared_error = 28585978469.388\\nsamples = 28\\nvalue = 735728.571'),\n",
       " Text(0.71875, 0.1, 'squared_error = 93612222222.222\\nsamples = 6\\nvalue = 1042333.333'),\n",
       " Text(0.875, 0.5, 'x[2] <= 13.5\\nsquared_error = 135724378878.997\\nsamples = 17\\nvalue = 1064646.941'),\n",
       " Text(0.8125, 0.3, 'x[31] <= 0.5\\nsquared_error = 81060817629.802\\nsamples = 9\\nvalue = 875777.556'),\n",
       " Text(0.78125, 0.1, 'squared_error = 14155524444.667\\nsamples = 3\\nvalue = 1153333.0'),\n",
       " Text(0.84375, 0.1, 'squared_error = 56735695666.805\\nsamples = 6\\nvalue = 736999.833'),\n",
       " Text(0.9375, 0.3, 'x[0] <= 119.5\\nsquared_error = 111943359375.0\\nsamples = 8\\nvalue = 1277125.0'),\n",
       " Text(0.90625, 0.1, 'squared_error = 123904000000.0\\nsamples = 2\\nvalue = 1647000.0'),\n",
       " Text(0.96875, 0.1, 'squared_error = 47153138888.889\\nsamples = 6\\nvalue = 1153833.333')]"
      ]
     },
     "execution_count": 110,
     "metadata": {},
     "output_type": "execute_result"
    },
    {
     "data": {
      "image/png": "[encoded data removed]",
      "text/plain": [
       "<Figure size 640x480 with 1 Axes>"
      ]
     },
     "metadata": {},
     "output_type": "display_data"
    }
   ],
   "source": [
    "from sklearn import tree\n",
    "\n",
    "tree.plot_tree(pipeline['regressor'])\n"
   ]
  },
  {
   "cell_type": "code",
   "execution_count": null,
   "id": "11c126b4",
   "metadata": {},
   "outputs": [
    {
     "name": "stdout",
     "output_type": "stream",
     "text": [
      "R²: 0.634\n"
     ]
    }
   ],
   "source": []
  },
  {
   "cell_type": "code",
   "execution_count": 98,
   "id": "408eda00",
   "metadata": {},
   "outputs": [
    {
     "name": "stdout",
     "output_type": "stream",
     "text": [
      "R²: 0.727\n"
     ]
    }
   ],
   "source": [
    "y_pred_train = pipeline.predict(X_train)\n",
    "r2 = r2_score(y_train, y_pred_train)\n",
    "print(f\"R²: {r2:.3f}\")\n"
   ]
  },
  {
   "cell_type": "code",
   "execution_count": 99,
   "id": "6fa2ac9d",
   "metadata": {},
   "outputs": [
    {
     "data": {
      "image/png": "[encoded data removed]",
      "text/plain": [
       "<Figure size 640x480 with 1 Axes>"
      ]
     },
     "metadata": {},
     "output_type": "display_data"
    }
   ],
   "source": [
    "# === 10. Wykres reszt ===\n",
    "residuals = y_test - y_pred\n",
    "plt.scatter(y_pred, residuals)\n",
    "plt.axhline(0, color='r', linestyle='--')\n",
    "plt.xlabel(\"Predicted values\")\n",
    "plt.ylabel(\"Residuals\")\n",
    "plt.title(\"Residual plot\")\n",
    "plt.show()\n"
   ]
  },
  {
   "cell_type": "code",
   "execution_count": 100,
   "id": "ba0e9e01",
   "metadata": {},
   "outputs": [
    {
     "name": "stdout",
     "output_type": "stream",
     "text": [
      "Predykowana cena: 447,841.91 zł\n"
     ]
    }
   ],
   "source": [
    "# === 11. Predykcja dla nowych danych ===\n",
    "\n",
    "X_new = pd.DataFrame(\n",
    "   [[47, 'Łódź Bałuty', 2, True, 16.0, '6 dni temu']],\n",
    "   columns=['area_m2', 'locality', 'rooms', 'owner_direct', 'photos', 'date_posted']\n",
    ")\n",
    "predicted_price = pipeline.predict(X_new)\n",
    "print(f\"Predykowana cena: {predicted_price[0]:,.2f} zł\")"
   ]
  },
  {
   "cell_type": "code",
   "execution_count": 101,
   "id": "ab72bc93",
   "metadata": {},
   "outputs": [
    {
     "name": "stdout",
     "output_type": "stream",
     "text": [
      "✅ Model zapisano jako 'model_random_forest_adresowo_lodz.pkl'\n"
     ]
    }
   ],
   "source": [
    "import joblib\n",
    "# === 12. Zapis modelu ===\n",
    "joblib.dump(pipeline, \"model_random_forest_adresowo_lodz.pkl\")\n",
    "print(\"✅ Model zapisano jako 'model_random_forest_adresowo_lodz.pkl'\")"
   ]
  },
  {
   "cell_type": "code",
   "execution_count": 102,
   "id": "60d16a3d",
   "metadata": {},
   "outputs": [
    {
     "name": "stdout",
     "output_type": "stream",
     "text": [
      "✅ Model wczytano pomyślnie.\n"
     ]
    }
   ],
   "source": [
    "import joblib\n",
    "# === 13. Wczytanie modelu ===\n",
    "loaded_pipeline = joblib.load(\"model_random_forest_adresowo_lodz.pkl\")\n",
    "print(\"✅ Model wczytano pomyślnie.\")"
   ]
  },
  {
   "cell_type": "code",
   "execution_count": 103,
   "id": "10d726bd",
   "metadata": {},
   "outputs": [
    {
     "data": {
      "text/plain": [
       "array([447841.90740741])"
      ]
     },
     "execution_count": 103,
     "metadata": {},
     "output_type": "execute_result"
    }
   ],
   "source": [
    "loaded_pipeline.predict(X_new)"
   ]
  },
  {
   "cell_type": "code",
   "execution_count": 122,
   "id": "8eae6a21",
   "metadata": {},
   "outputs": [
    {
     "name": "stdout",
     "output_type": "stream",
     "text": [
      "R²: 0.651\n"
     ]
    }
   ],
   "source": [
    "from sklearn.ensemble import RandomForestRegressor\n",
    "\n",
    "\n",
    "\n",
    "\n",
    "pipeline = Pipeline(steps=[\n",
    "   ('preprocessor', preprocessor),\n",
    "   ('regressor', RandomForestRegressor(\n",
    "       n_estimators=50,\n",
    "       max_depth=None,\n",
    "       random_state=42,\n",
    "       n_jobs=-1\n",
    "   ))\n",
    "])\n",
    "\n",
    "pipeline.fit(X_train, y_train)\n",
    "\n",
    "y_pred = pipeline.predict(X_test)\n",
    "r2 = r2_score(y_test, y_pred)\n",
    "print(f\"R²: {r2:.3f}\")\n"
   ]
  },
  {
   "cell_type": "code",
   "execution_count": 124,
   "id": "72289895",
   "metadata": {},
   "outputs": [
    {
     "data": {
      "image/png": "[encoded data removed]",
      "text/plain": [
       "<Figure size 640x480 with 1 Axes>"
      ]
     },
     "metadata": {},
     "output_type": "display_data"
    }
   ],
   "source": [
    "# === 10. Wykres reszt ===\n",
    "residuals = y_test - y_pred\n",
    "plt.scatter(y_pred, residuals)\n",
    "plt.axhline(0, color='r', linestyle='--')\n",
    "plt.xlabel(\"Predicted values\")\n",
    "plt.ylabel(\"Residuals\")\n",
    "plt.title(\"Residual plot\")\n",
    "plt.show()\n"
   ]
  },
  {
   "cell_type": "code",
   "execution_count": 125,
   "id": "c1f42c58",
   "metadata": {},
   "outputs": [
    {
     "name": "stdout",
     "output_type": "stream",
     "text": [
      "Predykowana cena: 388,887.84 zł\n"
     ]
    }
   ],
   "source": [
    "# === 11. Predykcja dla nowych danych ===\n",
    "\n",
    "X_new = pd.DataFrame(\n",
    "   [[47, 'Łódź Bałuty', 2, True, 16.0, '6 dni temu']],\n",
    "   columns=['area_m2', 'locality', 'rooms', 'owner_direct', 'photos', 'date_posted']\n",
    ")\n",
    "predicted_price = pipeline.predict(X_new)\n",
    "print(f\"Predykowana cena: {predicted_price[0]:,.2f} zł\")"
   ]
  },
  {
   "cell_type": "code",
   "execution_count": null,
   "id": "7dd5df72",
   "metadata": {},
   "outputs": [],
   "source": []
  }
 ],
 "metadata": {
  "kernelspec": {
   "display_name": ".venv",
   "language": "python",
   "name": "python3"
  },
  "language_info": {
   "codemirror_mode": {
    "name": "ipython",
    "version": 3
   },
   "file_extension": ".py",
   "mimetype": "text/x-python",
   "name": "python",
   "nbconvert_exporter": "python",
   "pygments_lexer": "ipython3",
   "version": "3.13.2"
  }
 },
 "nbformat": 4,
 "nbformat_minor": 5
}
